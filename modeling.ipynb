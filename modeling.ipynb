{
 "cells": [
  {
   "cell_type": "markdown",
   "metadata": {},
   "source": [
    "# Modeling "
   ]
  },
  {
   "cell_type": "code",
   "execution_count": null,
   "metadata": {},
   "outputs": [
    {
     "name": "stderr",
     "output_type": "stream",
     "text": [
      "c:\\Users\\camil\\Documents\\addi\\Lib\\site-packages\\tqdm\\auto.py:21: TqdmWarning: IProgress not found. Please update jupyter and ipywidgets. See https://ipywidgets.readthedocs.io/en/stable/user_install.html\n",
      "  from .autonotebook import tqdm as notebook_tqdm\n"
     ]
    }
   ],
   "source": [
    "# Importing libraries\n",
    "import pandas as pd \n",
    "import numpy as np\n",
    "import seaborn as sns\n",
    "import matplotlib.pyplot as plt\n",
    "import plotly.express as px\n",
    "from sentence_transformers import SentenceTransformer\n",
    "import numpy as np\n",
    "from sklearn.metrics.pairwise import cosine_similarity\n",
    "import pandas as pd\n",
    "from scipy.sparse import csr_matrix\n",
    "from sklearn.neighbors import NearestNeighbors\n",
    "import pickle\n",
    "import os\n",
    "from transformers import pipeline\n",
    "from sklearn.model_selection import train_test_split"
   ]
  },
  {
   "cell_type": "code",
   "execution_count": 2,
   "metadata": {},
   "outputs": [],
   "source": [
    "# Reading cleaned dataframes\n",
    "df_amz = pd.read_csv('./data/clean_df_amz.csv')\n",
    "df_ec = pd.read_csv('./data/clean_df_ec.csv')"
   ]
  },
  {
   "cell_type": "code",
   "execution_count": 3,
   "metadata": {},
   "outputs": [
    {
     "name": "stdout",
     "output_type": "stream",
     "text": [
      "<class 'pandas.core.frame.DataFrame'>\n",
      "RangeIndex: 433938 entries, 0 to 433937\n",
      "Data columns (total 11 columns):\n",
      " #   Column         Non-Null Count   Dtype  \n",
      "---  ------         --------------   -----  \n",
      " 0   event_time     433938 non-null  object \n",
      " 1   order_id       433938 non-null  int64  \n",
      " 2   product_id     433938 non-null  int64  \n",
      " 3   category_id    433938 non-null  float64\n",
      " 4   category_code  433938 non-null  object \n",
      " 5   brand          419890 non-null  object \n",
      " 6   price          433938 non-null  float64\n",
      " 7   user_id        433938 non-null  float64\n",
      " 8   event_year     433938 non-null  int64  \n",
      " 9   year_month     433938 non-null  object \n",
      " 10  price_range    433938 non-null  object \n",
      "dtypes: float64(3), int64(3), object(5)\n",
      "memory usage: 36.4+ MB\n"
     ]
    }
   ],
   "source": [
    "df_ec.info()"
   ]
  },
  {
   "cell_type": "code",
   "execution_count": 4,
   "metadata": {},
   "outputs": [
    {
     "name": "stdout",
     "output_type": "stream",
     "text": [
      "<class 'pandas.core.frame.DataFrame'>\n",
      "RangeIndex: 8820 entries, 0 to 8819\n",
      "Data columns (total 10 columns):\n",
      " #   Column                 Non-Null Count  Dtype  \n",
      "---  ------                 --------------  -----  \n",
      " 0   Product Name           8820 non-null   object \n",
      " 1   Category               8820 non-null   object \n",
      " 2   Selling Price          8820 non-null   float64\n",
      " 3   About Product          8596 non-null   object \n",
      " 4   Product Specification  7277 non-null   object \n",
      " 5   Technical Details      8111 non-null   object \n",
      " 6   Image                  8820 non-null   object \n",
      " 7   Product Url            8820 non-null   object \n",
      " 8   has_range              8820 non-null   bool   \n",
      " 9   price_range            8819 non-null   object \n",
      "dtypes: bool(1), float64(1), object(8)\n",
      "memory usage: 628.9+ KB\n"
     ]
    }
   ],
   "source": [
    "df_amz.info()"
   ]
  },
  {
   "cell_type": "markdown",
   "metadata": {},
   "source": [
    "## String Search Approach - Data Joining Process"
   ]
  },
  {
   "cell_type": "markdown",
   "metadata": {},
   "source": [
    "Taking into account that in both of the datasets there is a category column, I will check if there are similarities searching for the same strings within the category column for both of the datasets. "
   ]
  },
  {
   "cell_type": "code",
   "execution_count": 5,
   "metadata": {},
   "outputs": [
    {
     "data": {
      "text/plain": [
       "set()"
      ]
     },
     "execution_count": 5,
     "metadata": {},
     "output_type": "execute_result"
    }
   ],
   "source": [
    "# Cleaning spaces and lowcase\n",
    "df_ec[\"category_code\"] = df_ec[\"category_code\"].str.lower().str.strip()\n",
    "df_amz[\"Category\"] = df_amz[\"Category\"].str.lower().str.strip()\n",
    "\n",
    "# Extracting first category in df_ec\n",
    "df_ec[\"main_category\"] = df_ec[\"category_code\"].apply(lambda x: x.split(\".\")[0] if isinstance(x, str) else x)\n",
    "\n",
    "# # Extracting first category in df_amz\n",
    "df_amz[\"main_category\"] = df_amz[\"Category\"].apply(lambda x: x.split(\"|\")[0] if isinstance(x, str) else x)\n",
    "\n",
    "# Searching for coincidences\n",
    "unique_ec_categories = df_ec[\"main_category\"].unique()\n",
    "unique_amz_categories = df_amz[\"main_category\"].unique()\n",
    "\n",
    "# Both df intersection\n",
    "matching_categories = set(unique_ec_categories) & set(unique_amz_categories)\n",
    "matching_categories\n"
   ]
  },
  {
   "cell_type": "markdown",
   "metadata": {},
   "source": [
    "There are no direct matches between the categories in df_ec and df_amz. This suggests that:\n",
    "\n",
    "* The category names may differ in structure or meaning.\n",
    "* This apporach is not useful in this dataset. "
   ]
  },
  {
   "cell_type": "markdown",
   "metadata": {},
   "source": [
    "## Embedding Approach - Data Joining Process"
   ]
  },
  {
   "cell_type": "markdown",
   "metadata": {},
   "source": [
    "Embedding models transform data (text, images, audio, etc.) into numerical representations in a high-dimensional vector space. These models generate the vectors so that similar elements are closer in that space. This approach will generate those embeddings and search related to the distance, if they are similar, so they can be matched."
   ]
  },
  {
   "cell_type": "code",
   "execution_count": 3,
   "metadata": {},
   "outputs": [],
   "source": [
    "# Embedding model \n",
    "model = SentenceTransformer(\"all-MiniLM-L6-v2\")\n",
    "\n",
    "# Unique categories\n",
    "unique_ec_categories = df_ec[\"category_code\"].dropna().unique()\n",
    "unique_amz_categories = df_amz[\"Category\"].dropna().unique()\n",
    "\n",
    "# Embeddings process\n",
    "ec_embeddings = model.encode(unique_ec_categories, convert_to_tensor=False)\n",
    "amz_embeddings = model.encode(unique_amz_categories, convert_to_tensor=False)"
   ]
  },
  {
   "cell_type": "code",
   "execution_count": 4,
   "metadata": {},
   "outputs": [
    {
     "name": "stdout",
     "output_type": "stream",
     "text": [
      "electronics.tablet -> Electronics | Computers & Accessories | Tablet Accessories | Bags, Cases & Sleeves | Cases\n",
      "electronics.audio.headphone -> Electronics | Headphones | Over-Ear Headphones\n",
      "furniture.kitchen.table -> Home & Kitchen | Furniture | Kids' Furniture | Tables & Chairs | Tables\n",
      "electronics.smartphone -> Electronics | Camera & Photo | Video | Camcorders\n",
      "appliances.kitchen.refrigerators -> Home & Kitchen | Kitchen & Dining | Kitchen Utensils & Gadgets | Kitchen Accessories | Refrigerator Magnets\n",
      "appliances.personal.scales -> Home & Kitchen | Kitchen & Dining | Small Appliances | Ovens & Toasters | Toasters\n",
      "electronics.video.tv -> Electronics | Camera & Photo | Video | Camcorders\n",
      "computers.components.cpu -> Industrial & Scientific | Industrial Electrical | Passive Components | Capacitors\n",
      "computers.notebook -> Office Products | Office & School Supplies | Paper | Notebooks & Writing Pads | Subject Notebooks\n",
      "computers.peripherals.monitor -> Electronics | Camera & Photo | Binoculars & Scopes | Microscopes | USB Microscopes\n"
     ]
    }
   ],
   "source": [
    "# Cosine similarity\n",
    "similarity_matrix = cosine_similarity(ec_embeddings, amz_embeddings)\n",
    "\n",
    "# Finding better fit \n",
    "best_matches = similarity_matrix.argmax(axis=1)\n",
    "\n",
    "# Creating mapping dictionary\n",
    "category_mapping = {unique_ec_categories[i]: unique_amz_categories[best_matches[i]] for i in range(len(best_matches))}\n",
    "\n",
    "# Some of the matches...\n",
    "for ec_cat, amz_cat in list(category_mapping.items())[:10]:\n",
    "    print(f\"{ec_cat} -> {amz_cat}\")\n"
   ]
  },
  {
   "cell_type": "code",
   "execution_count": 5,
   "metadata": {},
   "outputs": [
    {
     "name": "stdout",
     "output_type": "stream",
     "text": [
      "433938 Succesfull assigned categories\n"
     ]
    },
    {
     "data": {
      "text/html": [
       "<div>\n",
       "<style scoped>\n",
       "    .dataframe tbody tr th:only-of-type {\n",
       "        vertical-align: middle;\n",
       "    }\n",
       "\n",
       "    .dataframe tbody tr th {\n",
       "        vertical-align: top;\n",
       "    }\n",
       "\n",
       "    .dataframe thead th {\n",
       "        text-align: right;\n",
       "    }\n",
       "</style>\n",
       "<table border=\"1\" class=\"dataframe\">\n",
       "  <thead>\n",
       "    <tr style=\"text-align: right;\">\n",
       "      <th></th>\n",
       "      <th>category_code</th>\n",
       "      <th>mapped_category</th>\n",
       "    </tr>\n",
       "  </thead>\n",
       "  <tbody>\n",
       "    <tr>\n",
       "      <th>0</th>\n",
       "      <td>electronics.tablet</td>\n",
       "      <td>Electronics | Computers &amp; Accessories | Tablet...</td>\n",
       "    </tr>\n",
       "    <tr>\n",
       "      <th>1</th>\n",
       "      <td>electronics.tablet</td>\n",
       "      <td>Electronics | Computers &amp; Accessories | Tablet...</td>\n",
       "    </tr>\n",
       "    <tr>\n",
       "      <th>2</th>\n",
       "      <td>electronics.audio.headphone</td>\n",
       "      <td>Electronics | Headphones | Over-Ear Headphones</td>\n",
       "    </tr>\n",
       "    <tr>\n",
       "      <th>3</th>\n",
       "      <td>electronics.audio.headphone</td>\n",
       "      <td>Electronics | Headphones | Over-Ear Headphones</td>\n",
       "    </tr>\n",
       "    <tr>\n",
       "      <th>4</th>\n",
       "      <td>furniture.kitchen.table</td>\n",
       "      <td>Home &amp; Kitchen | Furniture | Kids' Furniture |...</td>\n",
       "    </tr>\n",
       "    <tr>\n",
       "      <th>5</th>\n",
       "      <td>electronics.smartphone</td>\n",
       "      <td>Electronics | Camera &amp; Photo | Video | Camcorders</td>\n",
       "    </tr>\n",
       "    <tr>\n",
       "      <th>6</th>\n",
       "      <td>electronics.smartphone</td>\n",
       "      <td>Electronics | Camera &amp; Photo | Video | Camcorders</td>\n",
       "    </tr>\n",
       "    <tr>\n",
       "      <th>7</th>\n",
       "      <td>electronics.smartphone</td>\n",
       "      <td>Electronics | Camera &amp; Photo | Video | Camcorders</td>\n",
       "    </tr>\n",
       "    <tr>\n",
       "      <th>8</th>\n",
       "      <td>electronics.smartphone</td>\n",
       "      <td>Electronics | Camera &amp; Photo | Video | Camcorders</td>\n",
       "    </tr>\n",
       "    <tr>\n",
       "      <th>9</th>\n",
       "      <td>appliances.kitchen.refrigerators</td>\n",
       "      <td>Home &amp; Kitchen | Kitchen &amp; Dining | Kitchen Ut...</td>\n",
       "    </tr>\n",
       "  </tbody>\n",
       "</table>\n",
       "</div>"
      ],
      "text/plain": [
       "                      category_code  \\\n",
       "0                electronics.tablet   \n",
       "1                electronics.tablet   \n",
       "2       electronics.audio.headphone   \n",
       "3       electronics.audio.headphone   \n",
       "4           furniture.kitchen.table   \n",
       "5            electronics.smartphone   \n",
       "6            electronics.smartphone   \n",
       "7            electronics.smartphone   \n",
       "8            electronics.smartphone   \n",
       "9  appliances.kitchen.refrigerators   \n",
       "\n",
       "                                     mapped_category  \n",
       "0  Electronics | Computers & Accessories | Tablet...  \n",
       "1  Electronics | Computers & Accessories | Tablet...  \n",
       "2     Electronics | Headphones | Over-Ear Headphones  \n",
       "3     Electronics | Headphones | Over-Ear Headphones  \n",
       "4  Home & Kitchen | Furniture | Kids' Furniture |...  \n",
       "5  Electronics | Camera & Photo | Video | Camcorders  \n",
       "6  Electronics | Camera & Photo | Video | Camcorders  \n",
       "7  Electronics | Camera & Photo | Video | Camcorders  \n",
       "8  Electronics | Camera & Photo | Video | Camcorders  \n",
       "9  Home & Kitchen | Kitchen & Dining | Kitchen Ut...  "
      ]
     },
     "execution_count": 5,
     "metadata": {},
     "output_type": "execute_result"
    }
   ],
   "source": [
    "# Mapping categories to Ecommerce dataset\n",
    "df_ec[\"mapped_category\"] = df_ec[\"category_code\"].map(category_mapping)\n",
    "\n",
    "# Succesfull assigned categories\n",
    "print(df_ec[\"mapped_category\"].notna().sum(), \"Succesfull assigned categories\")\n",
    "\n",
    "# Results\n",
    "df_ec[[\"category_code\", \"mapped_category\"]].head(10)"
   ]
  },
  {
   "cell_type": "code",
   "execution_count": 6,
   "metadata": {},
   "outputs": [],
   "source": [
    "df_ec[\"mapped_category\"] = df_ec[\"mapped_category\"].str.strip().str.lower()\n",
    "df_amz[\"Category\"] = df_amz[\"Category\"].str.strip().str.lower()"
   ]
  },
  {
   "cell_type": "code",
   "execution_count": 7,
   "metadata": {},
   "outputs": [
    {
     "data": {
      "text/html": [
       "<div>\n",
       "<style scoped>\n",
       "    .dataframe tbody tr th:only-of-type {\n",
       "        vertical-align: middle;\n",
       "    }\n",
       "\n",
       "    .dataframe tbody tr th {\n",
       "        vertical-align: top;\n",
       "    }\n",
       "\n",
       "    .dataframe thead th {\n",
       "        text-align: right;\n",
       "    }\n",
       "</style>\n",
       "<table border=\"1\" class=\"dataframe\">\n",
       "  <thead>\n",
       "    <tr style=\"text-align: right;\">\n",
       "      <th></th>\n",
       "      <th>event_time</th>\n",
       "      <th>order_id</th>\n",
       "      <th>product_id</th>\n",
       "      <th>category_id</th>\n",
       "      <th>category_code</th>\n",
       "      <th>brand</th>\n",
       "      <th>price</th>\n",
       "      <th>user_id</th>\n",
       "      <th>event_year</th>\n",
       "      <th>year_month</th>\n",
       "      <th>...</th>\n",
       "      <th>Product Name</th>\n",
       "      <th>Category</th>\n",
       "      <th>Selling Price</th>\n",
       "      <th>About Product</th>\n",
       "      <th>Product Specification</th>\n",
       "      <th>Technical Details</th>\n",
       "      <th>Image</th>\n",
       "      <th>Product Url</th>\n",
       "      <th>has_range</th>\n",
       "      <th>price_range_y</th>\n",
       "    </tr>\n",
       "  </thead>\n",
       "  <tbody>\n",
       "    <tr>\n",
       "      <th>0</th>\n",
       "      <td>2020-04-24</td>\n",
       "      <td>2294359932054536986</td>\n",
       "      <td>1515966223509089906</td>\n",
       "      <td>2.268105e+18</td>\n",
       "      <td>electronics.tablet</td>\n",
       "      <td>samsung</td>\n",
       "      <td>162.01</td>\n",
       "      <td>1.515916e+18</td>\n",
       "      <td>2020</td>\n",
       "      <td>2020-04</td>\n",
       "      <td>...</td>\n",
       "      <td>Fisher Price Kid-Tough Apptivity Case for Kind...</td>\n",
       "      <td>electronics | computers &amp; accessories | tablet...</td>\n",
       "      <td>26.19</td>\n",
       "      <td>Make sure this fits by entering your model num...</td>\n",
       "      <td>ProductDimensions:8.5x1x5.8inches|ItemWeight:1...</td>\n",
       "      <td>Your child will be engaged, entertained and le...</td>\n",
       "      <td>https://images-na.ssl-images-amazon.com/images...</td>\n",
       "      <td>https://www.amazon.com/Fisher-Kid-Tough-Apptiv...</td>\n",
       "      <td>False</td>\n",
       "      <td>17-30</td>\n",
       "    </tr>\n",
       "    <tr>\n",
       "      <th>1</th>\n",
       "      <td>2020-04-24</td>\n",
       "      <td>2294359932054536986</td>\n",
       "      <td>1515966223509089906</td>\n",
       "      <td>2.268105e+18</td>\n",
       "      <td>electronics.tablet</td>\n",
       "      <td>samsung</td>\n",
       "      <td>162.01</td>\n",
       "      <td>1.515916e+18</td>\n",
       "      <td>2020</td>\n",
       "      <td>2020-04</td>\n",
       "      <td>...</td>\n",
       "      <td>Fisher Price Kid-Tough Apptivity Case for Kind...</td>\n",
       "      <td>electronics | computers &amp; accessories | tablet...</td>\n",
       "      <td>26.19</td>\n",
       "      <td>Make sure this fits by entering your model num...</td>\n",
       "      <td>ProductDimensions:8.5x1x5.8inches|ItemWeight:1...</td>\n",
       "      <td>Your child will be engaged, entertained and le...</td>\n",
       "      <td>https://images-na.ssl-images-amazon.com/images...</td>\n",
       "      <td>https://www.amazon.com/Fisher-Kid-Tough-Apptiv...</td>\n",
       "      <td>False</td>\n",
       "      <td>17-30</td>\n",
       "    </tr>\n",
       "    <tr>\n",
       "      <th>2</th>\n",
       "      <td>2020-04-24</td>\n",
       "      <td>2294444024058086220</td>\n",
       "      <td>2273948319057183658</td>\n",
       "      <td>2.268105e+18</td>\n",
       "      <td>electronics.audio.headphone</td>\n",
       "      <td>huawei</td>\n",
       "      <td>77.52</td>\n",
       "      <td>1.515916e+18</td>\n",
       "      <td>2020</td>\n",
       "      <td>2020-04</td>\n",
       "      <td>...</td>\n",
       "      <td>Trolls Poppy Kid Friendly Headphones with Buil...</td>\n",
       "      <td>electronics | headphones | over-ear headphones</td>\n",
       "      <td>17.99</td>\n",
       "      <td>Make sure this fits by entering your model num...</td>\n",
       "      <td>ProductDimensions:5.5x2.5x7inches|ItemWeight:5...</td>\n",
       "      <td>Go to your orders and start the return Select ...</td>\n",
       "      <td>https://images-na.ssl-images-amazon.com/images...</td>\n",
       "      <td>https://www.amazon.com/Friendly-Headphones-Lim...</td>\n",
       "      <td>False</td>\n",
       "      <td>17-30</td>\n",
       "    </tr>\n",
       "    <tr>\n",
       "      <th>3</th>\n",
       "      <td>2020-04-24</td>\n",
       "      <td>2294444024058086220</td>\n",
       "      <td>2273948319057183658</td>\n",
       "      <td>2.268105e+18</td>\n",
       "      <td>electronics.audio.headphone</td>\n",
       "      <td>huawei</td>\n",
       "      <td>77.52</td>\n",
       "      <td>1.515916e+18</td>\n",
       "      <td>2020</td>\n",
       "      <td>2020-04</td>\n",
       "      <td>...</td>\n",
       "      <td>Trolls Poppy Kid Friendly Headphones with Buil...</td>\n",
       "      <td>electronics | headphones | over-ear headphones</td>\n",
       "      <td>17.99</td>\n",
       "      <td>Make sure this fits by entering your model num...</td>\n",
       "      <td>ProductDimensions:5.5x2.5x7inches|ItemWeight:5...</td>\n",
       "      <td>Go to your orders and start the return Select ...</td>\n",
       "      <td>https://images-na.ssl-images-amazon.com/images...</td>\n",
       "      <td>https://www.amazon.com/Friendly-Headphones-Lim...</td>\n",
       "      <td>False</td>\n",
       "      <td>17-30</td>\n",
       "    </tr>\n",
       "    <tr>\n",
       "      <th>4</th>\n",
       "      <td>2020-04-26</td>\n",
       "      <td>2295716521449619559</td>\n",
       "      <td>1515966223509261697</td>\n",
       "      <td>2.268105e+18</td>\n",
       "      <td>furniture.kitchen.table</td>\n",
       "      <td>maestro</td>\n",
       "      <td>39.33</td>\n",
       "      <td>1.515916e+18</td>\n",
       "      <td>2020</td>\n",
       "      <td>2020-04</td>\n",
       "      <td>...</td>\n",
       "      <td>Flash Furniture 25''W x 45''L Trapezoid Red HP...</td>\n",
       "      <td>home &amp; kitchen | furniture | kids' furniture |...</td>\n",
       "      <td>117.26</td>\n",
       "      <td>Collaborative Trapezoid Activity Table | Table...</td>\n",
       "      <td>ASIN:B00777W7GE|ShippingWeight:39pounds(Viewsh...</td>\n",
       "      <td>Go to your orders and start the return Select ...</td>\n",
       "      <td>https://images-na.ssl-images-amazon.com/images...</td>\n",
       "      <td>https://www.amazon.com/Flash-Furniture-Trapezo...</td>\n",
       "      <td>False</td>\n",
       "      <td>100-500</td>\n",
       "    </tr>\n",
       "  </tbody>\n",
       "</table>\n",
       "<p>5 rows × 22 columns</p>\n",
       "</div>"
      ],
      "text/plain": [
       "   event_time             order_id           product_id   category_id  \\\n",
       "0  2020-04-24  2294359932054536986  1515966223509089906  2.268105e+18   \n",
       "1  2020-04-24  2294359932054536986  1515966223509089906  2.268105e+18   \n",
       "2  2020-04-24  2294444024058086220  2273948319057183658  2.268105e+18   \n",
       "3  2020-04-24  2294444024058086220  2273948319057183658  2.268105e+18   \n",
       "4  2020-04-26  2295716521449619559  1515966223509261697  2.268105e+18   \n",
       "\n",
       "                 category_code    brand   price       user_id  event_year  \\\n",
       "0           electronics.tablet  samsung  162.01  1.515916e+18        2020   \n",
       "1           electronics.tablet  samsung  162.01  1.515916e+18        2020   \n",
       "2  electronics.audio.headphone   huawei   77.52  1.515916e+18        2020   \n",
       "3  electronics.audio.headphone   huawei   77.52  1.515916e+18        2020   \n",
       "4      furniture.kitchen.table  maestro   39.33  1.515916e+18        2020   \n",
       "\n",
       "  year_month  ...                                       Product Name  \\\n",
       "0    2020-04  ...  Fisher Price Kid-Tough Apptivity Case for Kind...   \n",
       "1    2020-04  ...  Fisher Price Kid-Tough Apptivity Case for Kind...   \n",
       "2    2020-04  ...  Trolls Poppy Kid Friendly Headphones with Buil...   \n",
       "3    2020-04  ...  Trolls Poppy Kid Friendly Headphones with Buil...   \n",
       "4    2020-04  ...  Flash Furniture 25''W x 45''L Trapezoid Red HP...   \n",
       "\n",
       "                                            Category Selling Price  \\\n",
       "0  electronics | computers & accessories | tablet...         26.19   \n",
       "1  electronics | computers & accessories | tablet...         26.19   \n",
       "2     electronics | headphones | over-ear headphones         17.99   \n",
       "3     electronics | headphones | over-ear headphones         17.99   \n",
       "4  home & kitchen | furniture | kids' furniture |...        117.26   \n",
       "\n",
       "                                       About Product  \\\n",
       "0  Make sure this fits by entering your model num...   \n",
       "1  Make sure this fits by entering your model num...   \n",
       "2  Make sure this fits by entering your model num...   \n",
       "3  Make sure this fits by entering your model num...   \n",
       "4  Collaborative Trapezoid Activity Table | Table...   \n",
       "\n",
       "                               Product Specification  \\\n",
       "0  ProductDimensions:8.5x1x5.8inches|ItemWeight:1...   \n",
       "1  ProductDimensions:8.5x1x5.8inches|ItemWeight:1...   \n",
       "2  ProductDimensions:5.5x2.5x7inches|ItemWeight:5...   \n",
       "3  ProductDimensions:5.5x2.5x7inches|ItemWeight:5...   \n",
       "4  ASIN:B00777W7GE|ShippingWeight:39pounds(Viewsh...   \n",
       "\n",
       "                                   Technical Details  \\\n",
       "0  Your child will be engaged, entertained and le...   \n",
       "1  Your child will be engaged, entertained and le...   \n",
       "2  Go to your orders and start the return Select ...   \n",
       "3  Go to your orders and start the return Select ...   \n",
       "4  Go to your orders and start the return Select ...   \n",
       "\n",
       "                                               Image  \\\n",
       "0  https://images-na.ssl-images-amazon.com/images...   \n",
       "1  https://images-na.ssl-images-amazon.com/images...   \n",
       "2  https://images-na.ssl-images-amazon.com/images...   \n",
       "3  https://images-na.ssl-images-amazon.com/images...   \n",
       "4  https://images-na.ssl-images-amazon.com/images...   \n",
       "\n",
       "                                         Product Url has_range price_range_y  \n",
       "0  https://www.amazon.com/Fisher-Kid-Tough-Apptiv...     False         17-30  \n",
       "1  https://www.amazon.com/Fisher-Kid-Tough-Apptiv...     False         17-30  \n",
       "2  https://www.amazon.com/Friendly-Headphones-Lim...     False         17-30  \n",
       "3  https://www.amazon.com/Friendly-Headphones-Lim...     False         17-30  \n",
       "4  https://www.amazon.com/Flash-Furniture-Trapezo...     False       100-500  \n",
       "\n",
       "[5 rows x 22 columns]"
      ]
     },
     "execution_count": 7,
     "metadata": {},
     "output_type": "execute_result"
    }
   ],
   "source": [
    "# Merge keeping all of the products in amazon dataset\n",
    "df_merged = df_ec.merge(df_amz, left_on=\"mapped_category\", right_on=\"Category\", how=\"left\")\n",
    "\n",
    "# Display results\n",
    "df_merged.head()"
   ]
  },
  {
   "cell_type": "code",
   "execution_count": 10,
   "metadata": {},
   "outputs": [
    {
     "data": {
      "text/plain": [
       "Index(['event_time', 'order_id', 'product_id', 'category_id', 'category_code',\n",
       "       'brand', 'price', 'user_id', 'event_year', 'year_month',\n",
       "       'price_range_x', 'mapped_category', 'Product Name', 'Category',\n",
       "       'Selling Price', 'About Product', 'Product Specification',\n",
       "       'Technical Details', 'Image', 'Product Url', 'has_range',\n",
       "       'price_range_y'],\n",
       "      dtype='object')"
      ]
     },
     "execution_count": 10,
     "metadata": {},
     "output_type": "execute_result"
    }
   ],
   "source": [
    "df_merged.columns"
   ]
  },
  {
   "cell_type": "code",
   "execution_count": 11,
   "metadata": {},
   "outputs": [
    {
     "name": "stdout",
     "output_type": "stream",
     "text": [
      "<class 'pandas.core.frame.DataFrame'>\n",
      "RangeIndex: 753092 entries, 0 to 753091\n",
      "Data columns (total 22 columns):\n",
      " #   Column                 Non-Null Count   Dtype  \n",
      "---  ------                 --------------   -----  \n",
      " 0   event_time             753092 non-null  object \n",
      " 1   order_id               753092 non-null  int64  \n",
      " 2   product_id             753092 non-null  int64  \n",
      " 3   category_id            753092 non-null  float64\n",
      " 4   category_code          753092 non-null  object \n",
      " 5   brand                  719677 non-null  object \n",
      " 6   price                  753092 non-null  float64\n",
      " 7   user_id                753092 non-null  float64\n",
      " 8   event_year             753092 non-null  int64  \n",
      " 9   year_month             753092 non-null  object \n",
      " 10  price_range_x          753092 non-null  object \n",
      " 11  mapped_category        753092 non-null  object \n",
      " 12  Product Name           753092 non-null  object \n",
      " 13  Category               753092 non-null  object \n",
      " 14  Selling Price          753092 non-null  float64\n",
      " 15  About Product          739964 non-null  object \n",
      " 16  Product Specification  574601 non-null  object \n",
      " 17  Technical Details      619714 non-null  object \n",
      " 18  Image                  753092 non-null  object \n",
      " 19  Product Url            753092 non-null  object \n",
      " 20  has_range              753092 non-null  bool   \n",
      " 21  price_range_y          753092 non-null  object \n",
      "dtypes: bool(1), float64(4), int64(3), object(14)\n",
      "memory usage: 121.4+ MB\n"
     ]
    }
   ],
   "source": [
    "df_merged.info()"
   ]
  },
  {
   "cell_type": "code",
   "execution_count": 8,
   "metadata": {},
   "outputs": [],
   "source": [
    "# Converting user id to str type\n",
    "df_merged[\"user_id\"] = df_merged[\"user_id\"].apply(lambda x: str(int(float(x))) if 'e' in str(x) else str(x))"
   ]
  },
  {
   "cell_type": "code",
   "execution_count": 9,
   "metadata": {},
   "outputs": [
    {
     "data": {
      "text/plain": [
       "dtype('O')"
      ]
     },
     "execution_count": 9,
     "metadata": {},
     "output_type": "execute_result"
    }
   ],
   "source": [
    "df_merged['user_id'].dtype"
   ]
  },
  {
   "cell_type": "code",
   "execution_count": 10,
   "metadata": {},
   "outputs": [
    {
     "name": "stdout",
     "output_type": "stream",
     "text": [
      "0    1515915625441993984\n",
      "1    1515915625441993984\n",
      "2    1515915625447879424\n",
      "3    1515915625447879424\n",
      "4    1515915625450382848\n",
      "Name: user_id, dtype: object\n"
     ]
    }
   ],
   "source": [
    "print(df_merged[\"user_id\"].head())"
   ]
  },
  {
   "cell_type": "code",
   "execution_count": 11,
   "metadata": {},
   "outputs": [],
   "source": [
    "# Dropping spaces\n",
    "df_merged['user_id'] = df_merged['user_id'].str.strip()"
   ]
  },
  {
   "cell_type": "code",
   "execution_count": 12,
   "metadata": {},
   "outputs": [
    {
     "data": {
      "text/plain": [
       "0         1515915625441993984\n",
       "1         1515915625441993984\n",
       "2         1515915625447879424\n",
       "3         1515915625447879424\n",
       "4         1515915625450382848\n",
       "                 ...         \n",
       "753087    1515915625513809920\n",
       "753088    1515915625514888704\n",
       "753089    1515915625514891264\n",
       "753090    1515915625514834176\n",
       "753091    1515915625514834176\n",
       "Name: user_id, Length: 753092, dtype: object"
      ]
     },
     "execution_count": 12,
     "metadata": {},
     "output_type": "execute_result"
    }
   ],
   "source": [
    "df_merged['user_id']"
   ]
  },
  {
   "cell_type": "code",
   "execution_count": 14,
   "metadata": {},
   "outputs": [],
   "source": [
    "# Storing df_merged\n",
    "df_merged.to_csv(\"./data/df_merged.csv\", index=False) "
   ]
  },
  {
   "cell_type": "markdown",
   "metadata": {},
   "source": [
    "## Collaborative Filtering Approach - Recomendation System"
   ]
  },
  {
   "cell_type": "markdown",
   "metadata": {},
   "source": [
    "Building an user-product matrix to apply a KNN algorythm over it. The only column will be product_id and the user_id will be the index. \n"
   ]
  },
  {
   "cell_type": "code",
   "execution_count": 28,
   "metadata": {},
   "outputs": [],
   "source": [
    "# User-product matriz for KNN \n",
    "user_product_matrix = df_merged.pivot_table(index=\"user_id\", columns=\"product_id\", aggfunc=\"size\", fill_value=0)\n",
    "\n",
    "# Spars Matrix \n",
    "sparse_matrix = csr_matrix(user_product_matrix)"
   ]
  },
  {
   "cell_type": "code",
   "execution_count": 29,
   "metadata": {},
   "outputs": [
    {
     "data": {
      "text/html": [
       "<style>#sk-container-id-1 {\n",
       "  /* Definition of color scheme common for light and dark mode */\n",
       "  --sklearn-color-text: #000;\n",
       "  --sklearn-color-text-muted: #666;\n",
       "  --sklearn-color-line: gray;\n",
       "  /* Definition of color scheme for unfitted estimators */\n",
       "  --sklearn-color-unfitted-level-0: #fff5e6;\n",
       "  --sklearn-color-unfitted-level-1: #f6e4d2;\n",
       "  --sklearn-color-unfitted-level-2: #ffe0b3;\n",
       "  --sklearn-color-unfitted-level-3: chocolate;\n",
       "  /* Definition of color scheme for fitted estimators */\n",
       "  --sklearn-color-fitted-level-0: #f0f8ff;\n",
       "  --sklearn-color-fitted-level-1: #d4ebff;\n",
       "  --sklearn-color-fitted-level-2: #b3dbfd;\n",
       "  --sklearn-color-fitted-level-3: cornflowerblue;\n",
       "\n",
       "  /* Specific color for light theme */\n",
       "  --sklearn-color-text-on-default-background: var(--sg-text-color, var(--theme-code-foreground, var(--jp-content-font-color1, black)));\n",
       "  --sklearn-color-background: var(--sg-background-color, var(--theme-background, var(--jp-layout-color0, white)));\n",
       "  --sklearn-color-border-box: var(--sg-text-color, var(--theme-code-foreground, var(--jp-content-font-color1, black)));\n",
       "  --sklearn-color-icon: #696969;\n",
       "\n",
       "  @media (prefers-color-scheme: dark) {\n",
       "    /* Redefinition of color scheme for dark theme */\n",
       "    --sklearn-color-text-on-default-background: var(--sg-text-color, var(--theme-code-foreground, var(--jp-content-font-color1, white)));\n",
       "    --sklearn-color-background: var(--sg-background-color, var(--theme-background, var(--jp-layout-color0, #111)));\n",
       "    --sklearn-color-border-box: var(--sg-text-color, var(--theme-code-foreground, var(--jp-content-font-color1, white)));\n",
       "    --sklearn-color-icon: #878787;\n",
       "  }\n",
       "}\n",
       "\n",
       "#sk-container-id-1 {\n",
       "  color: var(--sklearn-color-text);\n",
       "}\n",
       "\n",
       "#sk-container-id-1 pre {\n",
       "  padding: 0;\n",
       "}\n",
       "\n",
       "#sk-container-id-1 input.sk-hidden--visually {\n",
       "  border: 0;\n",
       "  clip: rect(1px 1px 1px 1px);\n",
       "  clip: rect(1px, 1px, 1px, 1px);\n",
       "  height: 1px;\n",
       "  margin: -1px;\n",
       "  overflow: hidden;\n",
       "  padding: 0;\n",
       "  position: absolute;\n",
       "  width: 1px;\n",
       "}\n",
       "\n",
       "#sk-container-id-1 div.sk-dashed-wrapped {\n",
       "  border: 1px dashed var(--sklearn-color-line);\n",
       "  margin: 0 0.4em 0.5em 0.4em;\n",
       "  box-sizing: border-box;\n",
       "  padding-bottom: 0.4em;\n",
       "  background-color: var(--sklearn-color-background);\n",
       "}\n",
       "\n",
       "#sk-container-id-1 div.sk-container {\n",
       "  /* jupyter's `normalize.less` sets `[hidden] { display: none; }`\n",
       "     but bootstrap.min.css set `[hidden] { display: none !important; }`\n",
       "     so we also need the `!important` here to be able to override the\n",
       "     default hidden behavior on the sphinx rendered scikit-learn.org.\n",
       "     See: https://github.com/scikit-learn/scikit-learn/issues/21755 */\n",
       "  display: inline-block !important;\n",
       "  position: relative;\n",
       "}\n",
       "\n",
       "#sk-container-id-1 div.sk-text-repr-fallback {\n",
       "  display: none;\n",
       "}\n",
       "\n",
       "div.sk-parallel-item,\n",
       "div.sk-serial,\n",
       "div.sk-item {\n",
       "  /* draw centered vertical line to link estimators */\n",
       "  background-image: linear-gradient(var(--sklearn-color-text-on-default-background), var(--sklearn-color-text-on-default-background));\n",
       "  background-size: 2px 100%;\n",
       "  background-repeat: no-repeat;\n",
       "  background-position: center center;\n",
       "}\n",
       "\n",
       "/* Parallel-specific style estimator block */\n",
       "\n",
       "#sk-container-id-1 div.sk-parallel-item::after {\n",
       "  content: \"\";\n",
       "  width: 100%;\n",
       "  border-bottom: 2px solid var(--sklearn-color-text-on-default-background);\n",
       "  flex-grow: 1;\n",
       "}\n",
       "\n",
       "#sk-container-id-1 div.sk-parallel {\n",
       "  display: flex;\n",
       "  align-items: stretch;\n",
       "  justify-content: center;\n",
       "  background-color: var(--sklearn-color-background);\n",
       "  position: relative;\n",
       "}\n",
       "\n",
       "#sk-container-id-1 div.sk-parallel-item {\n",
       "  display: flex;\n",
       "  flex-direction: column;\n",
       "}\n",
       "\n",
       "#sk-container-id-1 div.sk-parallel-item:first-child::after {\n",
       "  align-self: flex-end;\n",
       "  width: 50%;\n",
       "}\n",
       "\n",
       "#sk-container-id-1 div.sk-parallel-item:last-child::after {\n",
       "  align-self: flex-start;\n",
       "  width: 50%;\n",
       "}\n",
       "\n",
       "#sk-container-id-1 div.sk-parallel-item:only-child::after {\n",
       "  width: 0;\n",
       "}\n",
       "\n",
       "/* Serial-specific style estimator block */\n",
       "\n",
       "#sk-container-id-1 div.sk-serial {\n",
       "  display: flex;\n",
       "  flex-direction: column;\n",
       "  align-items: center;\n",
       "  background-color: var(--sklearn-color-background);\n",
       "  padding-right: 1em;\n",
       "  padding-left: 1em;\n",
       "}\n",
       "\n",
       "\n",
       "/* Toggleable style: style used for estimator/Pipeline/ColumnTransformer box that is\n",
       "clickable and can be expanded/collapsed.\n",
       "- Pipeline and ColumnTransformer use this feature and define the default style\n",
       "- Estimators will overwrite some part of the style using the `sk-estimator` class\n",
       "*/\n",
       "\n",
       "/* Pipeline and ColumnTransformer style (default) */\n",
       "\n",
       "#sk-container-id-1 div.sk-toggleable {\n",
       "  /* Default theme specific background. It is overwritten whether we have a\n",
       "  specific estimator or a Pipeline/ColumnTransformer */\n",
       "  background-color: var(--sklearn-color-background);\n",
       "}\n",
       "\n",
       "/* Toggleable label */\n",
       "#sk-container-id-1 label.sk-toggleable__label {\n",
       "  cursor: pointer;\n",
       "  display: flex;\n",
       "  width: 100%;\n",
       "  margin-bottom: 0;\n",
       "  padding: 0.5em;\n",
       "  box-sizing: border-box;\n",
       "  text-align: center;\n",
       "  align-items: start;\n",
       "  justify-content: space-between;\n",
       "  gap: 0.5em;\n",
       "}\n",
       "\n",
       "#sk-container-id-1 label.sk-toggleable__label .caption {\n",
       "  font-size: 0.6rem;\n",
       "  font-weight: lighter;\n",
       "  color: var(--sklearn-color-text-muted);\n",
       "}\n",
       "\n",
       "#sk-container-id-1 label.sk-toggleable__label-arrow:before {\n",
       "  /* Arrow on the left of the label */\n",
       "  content: \"▸\";\n",
       "  float: left;\n",
       "  margin-right: 0.25em;\n",
       "  color: var(--sklearn-color-icon);\n",
       "}\n",
       "\n",
       "#sk-container-id-1 label.sk-toggleable__label-arrow:hover:before {\n",
       "  color: var(--sklearn-color-text);\n",
       "}\n",
       "\n",
       "/* Toggleable content - dropdown */\n",
       "\n",
       "#sk-container-id-1 div.sk-toggleable__content {\n",
       "  max-height: 0;\n",
       "  max-width: 0;\n",
       "  overflow: hidden;\n",
       "  text-align: left;\n",
       "  /* unfitted */\n",
       "  background-color: var(--sklearn-color-unfitted-level-0);\n",
       "}\n",
       "\n",
       "#sk-container-id-1 div.sk-toggleable__content.fitted {\n",
       "  /* fitted */\n",
       "  background-color: var(--sklearn-color-fitted-level-0);\n",
       "}\n",
       "\n",
       "#sk-container-id-1 div.sk-toggleable__content pre {\n",
       "  margin: 0.2em;\n",
       "  border-radius: 0.25em;\n",
       "  color: var(--sklearn-color-text);\n",
       "  /* unfitted */\n",
       "  background-color: var(--sklearn-color-unfitted-level-0);\n",
       "}\n",
       "\n",
       "#sk-container-id-1 div.sk-toggleable__content.fitted pre {\n",
       "  /* unfitted */\n",
       "  background-color: var(--sklearn-color-fitted-level-0);\n",
       "}\n",
       "\n",
       "#sk-container-id-1 input.sk-toggleable__control:checked~div.sk-toggleable__content {\n",
       "  /* Expand drop-down */\n",
       "  max-height: 200px;\n",
       "  max-width: 100%;\n",
       "  overflow: auto;\n",
       "}\n",
       "\n",
       "#sk-container-id-1 input.sk-toggleable__control:checked~label.sk-toggleable__label-arrow:before {\n",
       "  content: \"▾\";\n",
       "}\n",
       "\n",
       "/* Pipeline/ColumnTransformer-specific style */\n",
       "\n",
       "#sk-container-id-1 div.sk-label input.sk-toggleable__control:checked~label.sk-toggleable__label {\n",
       "  color: var(--sklearn-color-text);\n",
       "  background-color: var(--sklearn-color-unfitted-level-2);\n",
       "}\n",
       "\n",
       "#sk-container-id-1 div.sk-label.fitted input.sk-toggleable__control:checked~label.sk-toggleable__label {\n",
       "  background-color: var(--sklearn-color-fitted-level-2);\n",
       "}\n",
       "\n",
       "/* Estimator-specific style */\n",
       "\n",
       "/* Colorize estimator box */\n",
       "#sk-container-id-1 div.sk-estimator input.sk-toggleable__control:checked~label.sk-toggleable__label {\n",
       "  /* unfitted */\n",
       "  background-color: var(--sklearn-color-unfitted-level-2);\n",
       "}\n",
       "\n",
       "#sk-container-id-1 div.sk-estimator.fitted input.sk-toggleable__control:checked~label.sk-toggleable__label {\n",
       "  /* fitted */\n",
       "  background-color: var(--sklearn-color-fitted-level-2);\n",
       "}\n",
       "\n",
       "#sk-container-id-1 div.sk-label label.sk-toggleable__label,\n",
       "#sk-container-id-1 div.sk-label label {\n",
       "  /* The background is the default theme color */\n",
       "  color: var(--sklearn-color-text-on-default-background);\n",
       "}\n",
       "\n",
       "/* On hover, darken the color of the background */\n",
       "#sk-container-id-1 div.sk-label:hover label.sk-toggleable__label {\n",
       "  color: var(--sklearn-color-text);\n",
       "  background-color: var(--sklearn-color-unfitted-level-2);\n",
       "}\n",
       "\n",
       "/* Label box, darken color on hover, fitted */\n",
       "#sk-container-id-1 div.sk-label.fitted:hover label.sk-toggleable__label.fitted {\n",
       "  color: var(--sklearn-color-text);\n",
       "  background-color: var(--sklearn-color-fitted-level-2);\n",
       "}\n",
       "\n",
       "/* Estimator label */\n",
       "\n",
       "#sk-container-id-1 div.sk-label label {\n",
       "  font-family: monospace;\n",
       "  font-weight: bold;\n",
       "  display: inline-block;\n",
       "  line-height: 1.2em;\n",
       "}\n",
       "\n",
       "#sk-container-id-1 div.sk-label-container {\n",
       "  text-align: center;\n",
       "}\n",
       "\n",
       "/* Estimator-specific */\n",
       "#sk-container-id-1 div.sk-estimator {\n",
       "  font-family: monospace;\n",
       "  border: 1px dotted var(--sklearn-color-border-box);\n",
       "  border-radius: 0.25em;\n",
       "  box-sizing: border-box;\n",
       "  margin-bottom: 0.5em;\n",
       "  /* unfitted */\n",
       "  background-color: var(--sklearn-color-unfitted-level-0);\n",
       "}\n",
       "\n",
       "#sk-container-id-1 div.sk-estimator.fitted {\n",
       "  /* fitted */\n",
       "  background-color: var(--sklearn-color-fitted-level-0);\n",
       "}\n",
       "\n",
       "/* on hover */\n",
       "#sk-container-id-1 div.sk-estimator:hover {\n",
       "  /* unfitted */\n",
       "  background-color: var(--sklearn-color-unfitted-level-2);\n",
       "}\n",
       "\n",
       "#sk-container-id-1 div.sk-estimator.fitted:hover {\n",
       "  /* fitted */\n",
       "  background-color: var(--sklearn-color-fitted-level-2);\n",
       "}\n",
       "\n",
       "/* Specification for estimator info (e.g. \"i\" and \"?\") */\n",
       "\n",
       "/* Common style for \"i\" and \"?\" */\n",
       "\n",
       ".sk-estimator-doc-link,\n",
       "a:link.sk-estimator-doc-link,\n",
       "a:visited.sk-estimator-doc-link {\n",
       "  float: right;\n",
       "  font-size: smaller;\n",
       "  line-height: 1em;\n",
       "  font-family: monospace;\n",
       "  background-color: var(--sklearn-color-background);\n",
       "  border-radius: 1em;\n",
       "  height: 1em;\n",
       "  width: 1em;\n",
       "  text-decoration: none !important;\n",
       "  margin-left: 0.5em;\n",
       "  text-align: center;\n",
       "  /* unfitted */\n",
       "  border: var(--sklearn-color-unfitted-level-1) 1pt solid;\n",
       "  color: var(--sklearn-color-unfitted-level-1);\n",
       "}\n",
       "\n",
       ".sk-estimator-doc-link.fitted,\n",
       "a:link.sk-estimator-doc-link.fitted,\n",
       "a:visited.sk-estimator-doc-link.fitted {\n",
       "  /* fitted */\n",
       "  border: var(--sklearn-color-fitted-level-1) 1pt solid;\n",
       "  color: var(--sklearn-color-fitted-level-1);\n",
       "}\n",
       "\n",
       "/* On hover */\n",
       "div.sk-estimator:hover .sk-estimator-doc-link:hover,\n",
       ".sk-estimator-doc-link:hover,\n",
       "div.sk-label-container:hover .sk-estimator-doc-link:hover,\n",
       ".sk-estimator-doc-link:hover {\n",
       "  /* unfitted */\n",
       "  background-color: var(--sklearn-color-unfitted-level-3);\n",
       "  color: var(--sklearn-color-background);\n",
       "  text-decoration: none;\n",
       "}\n",
       "\n",
       "div.sk-estimator.fitted:hover .sk-estimator-doc-link.fitted:hover,\n",
       ".sk-estimator-doc-link.fitted:hover,\n",
       "div.sk-label-container:hover .sk-estimator-doc-link.fitted:hover,\n",
       ".sk-estimator-doc-link.fitted:hover {\n",
       "  /* fitted */\n",
       "  background-color: var(--sklearn-color-fitted-level-3);\n",
       "  color: var(--sklearn-color-background);\n",
       "  text-decoration: none;\n",
       "}\n",
       "\n",
       "/* Span, style for the box shown on hovering the info icon */\n",
       ".sk-estimator-doc-link span {\n",
       "  display: none;\n",
       "  z-index: 9999;\n",
       "  position: relative;\n",
       "  font-weight: normal;\n",
       "  right: .2ex;\n",
       "  padding: .5ex;\n",
       "  margin: .5ex;\n",
       "  width: min-content;\n",
       "  min-width: 20ex;\n",
       "  max-width: 50ex;\n",
       "  color: var(--sklearn-color-text);\n",
       "  box-shadow: 2pt 2pt 4pt #999;\n",
       "  /* unfitted */\n",
       "  background: var(--sklearn-color-unfitted-level-0);\n",
       "  border: .5pt solid var(--sklearn-color-unfitted-level-3);\n",
       "}\n",
       "\n",
       ".sk-estimator-doc-link.fitted span {\n",
       "  /* fitted */\n",
       "  background: var(--sklearn-color-fitted-level-0);\n",
       "  border: var(--sklearn-color-fitted-level-3);\n",
       "}\n",
       "\n",
       ".sk-estimator-doc-link:hover span {\n",
       "  display: block;\n",
       "}\n",
       "\n",
       "/* \"?\"-specific style due to the `<a>` HTML tag */\n",
       "\n",
       "#sk-container-id-1 a.estimator_doc_link {\n",
       "  float: right;\n",
       "  font-size: 1rem;\n",
       "  line-height: 1em;\n",
       "  font-family: monospace;\n",
       "  background-color: var(--sklearn-color-background);\n",
       "  border-radius: 1rem;\n",
       "  height: 1rem;\n",
       "  width: 1rem;\n",
       "  text-decoration: none;\n",
       "  /* unfitted */\n",
       "  color: var(--sklearn-color-unfitted-level-1);\n",
       "  border: var(--sklearn-color-unfitted-level-1) 1pt solid;\n",
       "}\n",
       "\n",
       "#sk-container-id-1 a.estimator_doc_link.fitted {\n",
       "  /* fitted */\n",
       "  border: var(--sklearn-color-fitted-level-1) 1pt solid;\n",
       "  color: var(--sklearn-color-fitted-level-1);\n",
       "}\n",
       "\n",
       "/* On hover */\n",
       "#sk-container-id-1 a.estimator_doc_link:hover {\n",
       "  /* unfitted */\n",
       "  background-color: var(--sklearn-color-unfitted-level-3);\n",
       "  color: var(--sklearn-color-background);\n",
       "  text-decoration: none;\n",
       "}\n",
       "\n",
       "#sk-container-id-1 a.estimator_doc_link.fitted:hover {\n",
       "  /* fitted */\n",
       "  background-color: var(--sklearn-color-fitted-level-3);\n",
       "}\n",
       "</style><div id=\"sk-container-id-1\" class=\"sk-top-container\"><div class=\"sk-text-repr-fallback\"><pre>NearestNeighbors(algorithm=&#x27;brute&#x27;, metric=&#x27;cosine&#x27;)</pre><b>In a Jupyter environment, please rerun this cell to show the HTML representation or trust the notebook. <br />On GitHub, the HTML representation is unable to render, please try loading this page with nbviewer.org.</b></div><div class=\"sk-container\" hidden><div class=\"sk-item\"><div class=\"sk-estimator fitted sk-toggleable\"><input class=\"sk-toggleable__control sk-hidden--visually\" id=\"sk-estimator-id-1\" type=\"checkbox\" checked><label for=\"sk-estimator-id-1\" class=\"sk-toggleable__label fitted sk-toggleable__label-arrow\"><div><div>NearestNeighbors</div></div><div><a class=\"sk-estimator-doc-link fitted\" rel=\"noreferrer\" target=\"_blank\" href=\"https://scikit-learn.org/1.6/modules/generated/sklearn.neighbors.NearestNeighbors.html\">?<span>Documentation for NearestNeighbors</span></a><span class=\"sk-estimator-doc-link fitted\">i<span>Fitted</span></span></div></label><div class=\"sk-toggleable__content fitted\"><pre>NearestNeighbors(algorithm=&#x27;brute&#x27;, metric=&#x27;cosine&#x27;)</pre></div> </div></div></div></div>"
      ],
      "text/plain": [
       "NearestNeighbors(algorithm='brute', metric='cosine')"
      ]
     },
     "execution_count": 29,
     "metadata": {},
     "output_type": "execute_result"
    }
   ],
   "source": [
    "# Initialize KNN model\n",
    "knn = NearestNeighbors(metric='cosine', algorithm='brute')\n",
    "\n",
    "# Fit the model with the sparse interaction matrix\n",
    "knn.fit(sparse_matrix)"
   ]
  },
  {
   "cell_type": "code",
   "execution_count": 30,
   "metadata": {},
   "outputs": [],
   "source": [
    "# Initialize KNN model\n",
    "knn = NearestNeighbors(metric='cosine', algorithm='brute')\n",
    "\n",
    "# Fit the model with the sparse interaction matrix\n",
    "knn.fit(sparse_matrix)\n",
    "\n",
    "def rs(user_id, n_recommendations=10):\n",
    "    # Check if the user exists in the dataset\n",
    "    if user_id not in user_product_matrix.index:\n",
    "        print(f\"⚠️ User {user_id} not found. Returning most popular products.\")\n",
    "        return user_product_matrix.sum(axis=0).sort_values(ascending=False).index[:n_recommendations].tolist()\n",
    "\n",
    "    # Get the index of the user in the interaction matrix\n",
    "    user_index = user_product_matrix.index.get_loc(user_id)\n",
    "\n",
    "    # Find the 10 nearest neighbors using the KNN model\n",
    "    distances, indices = knn.kneighbors(sparse_matrix[user_index], n_neighbors=10)\n",
    "\n",
    "    # Get the products that the user has already purchased\n",
    "    user_purchases = set(user_product_matrix.iloc[user_index].to_numpy().nonzero()[0])\n",
    "\n",
    "    # Collect products purchased by similar users (neighbors)\n",
    "    recommended_products = []\n",
    "    for neighbor_index in indices.flatten():\n",
    "        if neighbor_index == user_index:\n",
    "            continue  # Skip self\n",
    "\n",
    "        # Get purchases of the neighbor\n",
    "        neighbor_purchases = user_product_matrix.iloc[neighbor_index].to_numpy().nonzero()[0]\n",
    "\n",
    "        if len(neighbor_purchases) > 0:  # Ensure the neighbor has at least one purchase\n",
    "            recommended_products.extend(neighbor_purchases)\n",
    "\n",
    "    # Convert the list to a NumPy array for processing\n",
    "    recommended_products = np.array(recommended_products)\n",
    "\n",
    "    if recommended_products.size == 0:\n",
    "        print(f\"⚠️ No neighbor recommendations found for user {user_id}. Returning most popular products.\")\n",
    "        return user_product_matrix.sum(axis=0).sort_values(ascending=False).index[:n_recommendations].tolist()\n",
    "\n",
    "    # Count the frequency of each recommended product\n",
    "    unique, counts = np.unique(recommended_products, return_counts=True)\n",
    "\n",
    "    # Sort products by frequency in descending order\n",
    "    sorted_indices = unique[np.argsort(-counts)]\n",
    "\n",
    "    # Convert indices to product names and filter out already purchased products\n",
    "    final_recommendations = [user_product_matrix.columns[i] for i in sorted_indices if i not in user_purchases]\n",
    "\n",
    "    # If not enough recommendations, add popular products as fallback\n",
    "    if len(final_recommendations) < n_recommendations:\n",
    "        print(f\"⚠️ Only {len(final_recommendations)} recommendations found for user {user_id}. Adding most popular products.\")\n",
    "        top_products = user_product_matrix.sum(axis=0).sort_values(ascending=False).index\n",
    "        final_recommendations.extend([p for p in top_products if p not in user_purchases][:n_recommendations - len(final_recommendations)])\n",
    "\n",
    "    return final_recommendations[:n_recommendations]\n"
   ]
  },
  {
   "cell_type": "code",
   "execution_count": 31,
   "metadata": {},
   "outputs": [
    {
     "name": "stdout",
     "output_type": "stream",
     "text": [
      "\n",
      "🔍 Recommendations for user 1515915625441993984:\n",
      "⚠️ Only 0 recommendations found for user 1515915625441993984. Adding most popular products.\n",
      "[1515966223517846928, 1515966223509106786, 1515966223509088532, 1515966223509088613, 1515966223509088567]\n",
      "\n",
      "🔍 Recommendations for user 1515915625447879424:\n",
      "[np.int64(1515966223509088531), np.int64(1515966223509104979), np.int64(1515966223509088567), np.int64(1515966223509089269), np.int64(1515966223509089406)]\n",
      "\n",
      "🔍 Recommendations for user 1515915625450382848:\n",
      "⚠️ Only 3 recommendations found for user 1515915625450382848. Adding most popular products.\n",
      "[np.int64(1515966223509130184), np.int64(1515966223527326232), np.int64(2273948219744453140), 1515966223517846928, 1515966223509106786]\n",
      "\n",
      "🔍 Recommendations for user 1515915625448766464:\n",
      "⚠️ Only 0 recommendations found for user 1515915625448766464. Adding most popular products.\n",
      "[1515966223517846928, 1515966223509106786, 1515966223509088532, 1515966223509088613, 1515966223509088567]\n",
      "\n",
      "🔍 Recommendations for user 1515915625450561280:\n",
      "⚠️ Only 0 recommendations found for user 1515915625450561280. Adding most popular products.\n",
      "[1515966223517846928, 1515966223509106786, 1515966223509088532, 1515966223509088613, 1515966223509088567]\n"
     ]
    }
   ],
   "source": [
    "# Testing function\n",
    "test_users = df_merged[\"user_id\"].astype(int).unique()[:5]  # Tomamos los primeros 3\n",
    "\n",
    "for user in test_users:\n",
    "    print(f\"\\n🔍 Recommendations for user {user}:\")\n",
    "    recommendations = rs(user, n_recommendations=5)\n",
    "    print(recommendations)\n"
   ]
  },
  {
   "cell_type": "markdown",
   "metadata": {},
   "source": [
    "As a lot of the users had 0 recommendations, I will try to debug this reason: "
   ]
  },
  {
   "cell_type": "code",
   "execution_count": null,
   "metadata": {},
   "outputs": [
    {
     "name": "stdout",
     "output_type": "stream",
     "text": [
      "Sample user IDs in user_product_matrix: Index([ 1.515915625439952e+18, 1.5159156254400384e+18, 1.5159156254400517e+18,\n",
      "       1.5159156254400998e+18, 1.5159156254401216e+18, 1.5159156254408814e+18,\n",
      "       1.5159156254409362e+18, 1.5159156254409367e+18,  1.515915625440937e+18,\n",
      "       1.5159156254409372e+18],\n",
      "      dtype='float64', name='user_id')\n",
      "Test user IDs: [1515915625441993984 1515915625447879424 1515915625450382848]\n",
      "User 1515915625441993984 in matrix: True\n",
      "User 1515915625447879424 in matrix: True\n",
      "User 1515915625450382848 in matrix: True\n"
     ]
    }
   ],
   "source": [
    "print(\"Sample user IDs in user_product_matrix:\", user_product_matrix.index[:10]) \n",
    "print(\"Test user IDs:\", test_users)\n",
    "\n",
    "# Checking if testing users are in the matrix\n",
    "for user in test_users:\n",
    "    print(f\"User {user} in matrix: {user in user_product_matrix.index}\")\n"
   ]
  },
  {
   "cell_type": "code",
   "execution_count": null,
   "metadata": {},
   "outputs": [
    {
     "name": "stdout",
     "output_type": "stream",
     "text": [
      "Data type in df_merged: float64\n",
      "Data type in user_product_matrix: float64\n"
     ]
    }
   ],
   "source": [
    "# Checking data types\n",
    "print(\"Data type in df_merged:\", df_merged[\"user_id\"].dtype)\n",
    "print(\"Data type in user_product_matrix:\", user_product_matrix.index.dtype)"
   ]
  },
  {
   "cell_type": "code",
   "execution_count": null,
   "metadata": {},
   "outputs": [
    {
     "name": "stdout",
     "output_type": "stream",
     "text": [
      "Matrix shape: (87683, 372)\n",
      "Non-zero interactions: 349533\n"
     ]
    }
   ],
   "source": [
    "# Checking interactions\n",
    "print(\"Matrix shape:\", user_product_matrix.shape)\n",
    "print(\"Non-zero interactions:\", user_product_matrix.to_numpy().nonzero()[0].size)"
   ]
  },
  {
   "cell_type": "markdown",
   "metadata": {},
   "source": [
    "It seems that this approach is not effective taking into consideration that most of the users have purchased 1-2 articles, so there are not enough nearest neighbors to build a strong recommendation system, that is the reason why it is recommending the most purchased articles, not based in the algorythm. "
   ]
  },
  {
   "cell_type": "markdown",
   "metadata": {},
   "source": [
    "## Embedding Approach - Recomendation System"
   ]
  },
  {
   "cell_type": "markdown",
   "metadata": {},
   "source": [
    "As the previous approach was not useful, I will use a embedding approach similar to the one used to map the categories. The main purpose of it is to be able to include text columns that handle information related to the products. "
   ]
  },
  {
   "cell_type": "code",
   "execution_count": 15,
   "metadata": {},
   "outputs": [
    {
     "data": {
      "text/plain": [
       "Index(['event_time', 'order_id', 'product_id', 'category_id', 'category_code',\n",
       "       'brand', 'price', 'user_id', 'event_year', 'year_month',\n",
       "       'price_range_x', 'mapped_category', 'Product Name', 'Category',\n",
       "       'Selling Price', 'About Product', 'Product Specification',\n",
       "       'Technical Details', 'Image', 'Product Url', 'has_range',\n",
       "       'price_range_y'],\n",
       "      dtype='object')"
      ]
     },
     "execution_count": 15,
     "metadata": {},
     "output_type": "execute_result"
    }
   ],
   "source": [
    "df_merged = pd.read_csv('./data/df_merged.csv')\n",
    "df_merged.columns"
   ]
  },
  {
   "cell_type": "code",
   "execution_count": 16,
   "metadata": {},
   "outputs": [
    {
     "name": "stdout",
     "output_type": "stream",
     "text": [
      "<class 'pandas.core.frame.DataFrame'>\n",
      "RangeIndex: 753092 entries, 0 to 753091\n",
      "Data columns (total 22 columns):\n",
      " #   Column                 Non-Null Count   Dtype  \n",
      "---  ------                 --------------   -----  \n",
      " 0   event_time             753092 non-null  object \n",
      " 1   order_id               753092 non-null  int64  \n",
      " 2   product_id             753092 non-null  int64  \n",
      " 3   category_id            753092 non-null  float64\n",
      " 4   category_code          753092 non-null  object \n",
      " 5   brand                  719677 non-null  object \n",
      " 6   price                  753092 non-null  float64\n",
      " 7   user_id                753092 non-null  int64  \n",
      " 8   event_year             753092 non-null  int64  \n",
      " 9   year_month             753092 non-null  object \n",
      " 10  price_range_x          753092 non-null  object \n",
      " 11  mapped_category        753092 non-null  object \n",
      " 12  Product Name           753092 non-null  object \n",
      " 13  Category               753092 non-null  object \n",
      " 14  Selling Price          753092 non-null  float64\n",
      " 15  About Product          739964 non-null  object \n",
      " 16  Product Specification  574601 non-null  object \n",
      " 17  Technical Details      619714 non-null  object \n",
      " 18  Image                  753092 non-null  object \n",
      " 19  Product Url            753092 non-null  object \n",
      " 20  has_range              753092 non-null  bool   \n",
      " 21  price_range_y          753092 non-null  object \n",
      "dtypes: bool(1), float64(3), int64(4), object(14)\n",
      "memory usage: 121.4+ MB\n"
     ]
    }
   ],
   "source": [
    "# Taking a look into the most relevant columns for this approach\n",
    "df_merged.info()"
   ]
  },
  {
   "cell_type": "code",
   "execution_count": 18,
   "metadata": {},
   "outputs": [
    {
     "data": {
      "text/plain": [
       "0         1515915625441993984\n",
       "1         1515915625441993984\n",
       "2         1515915625447879424\n",
       "3         1515915625447879424\n",
       "4         1515915625450382848\n",
       "                 ...         \n",
       "753087    1515915625513809920\n",
       "753088    1515915625514888704\n",
       "753089    1515915625514891264\n",
       "753090    1515915625514834176\n",
       "753091    1515915625514834176\n",
       "Name: user_id, Length: 753092, dtype: object"
      ]
     },
     "execution_count": 18,
     "metadata": {},
     "output_type": "execute_result"
    }
   ],
   "source": [
    "df_merged['user_id'] = df_merged['user_id'].astype(str)\n",
    "df_merged['user_id']"
   ]
  },
  {
   "cell_type": "code",
   "execution_count": 19,
   "metadata": {},
   "outputs": [],
   "source": [
    "# Dropping spaces\n",
    "df_merged['user_id'] = df_merged['user_id'].str.strip()"
   ]
  },
  {
   "cell_type": "markdown",
   "metadata": {},
   "source": [
    "'About Product' Column"
   ]
  },
  {
   "cell_type": "code",
   "execution_count": 20,
   "metadata": {},
   "outputs": [
    {
     "data": {
      "text/plain": [
       "'Make sure this fits by entering your model number. | Certified \"Made for Kindle\" Accessory for Kindle Fire(will not fit Kindle Fire HD 7\" or 8.9\") | Fisher-Price Kid Tough Kindle Fire Apptivity Case lets kids enjoy their very own apps while protecting mom or dad\\'s device | Durable case sized just right for kids to hold | Sturdy outer shell | Download free Fisher-Price apps'"
      ]
     },
     "execution_count": 20,
     "metadata": {},
     "output_type": "execute_result"
    }
   ],
   "source": [
    "df_merged['About Product'][1]"
   ]
  },
  {
   "cell_type": "code",
   "execution_count": 35,
   "metadata": {},
   "outputs": [
    {
     "data": {
      "text/plain": [
       "61"
      ]
     },
     "execution_count": 35,
     "metadata": {},
     "output_type": "execute_result"
    }
   ],
   "source": [
    "df_merged['About Product'].nunique()"
   ]
  },
  {
   "cell_type": "markdown",
   "metadata": {},
   "source": [
    "'Technical Details' Column"
   ]
  },
  {
   "cell_type": "code",
   "execution_count": 36,
   "metadata": {},
   "outputs": [
    {
     "data": {
      "text/plain": [
       "\"Your child will be engaged, entertained and learning every time he or she uses it. View larger. Fisher-Price® Kid-Tough™ Apptivity™ Case for Kindle Fire How can you show your little one an ‘appsolutely’ fun time using your Kindle Fire with ‘appsolutely’ no worries? With the Fisher-Price® Kid-Tough™ Apptivity™ Case built just for Kindle Fire. This sturdy case (that also comes in pink) is built Kid-Tough™! So it will protect your Kindle Fire from drips and sticky little fingers and whatever else your toddler can dish out! You’ll love the protection, and your child will love the FREE Fisher-Price® learning apps you can download from the Kindle Appstore—no purchase necessary! (Kindle Fire device not included.) The Fisher-Price® Imaginext® Dino-Tech App is a great way for kids to interact with and learn about their favorite dinosaurs! View larger. Kid-Tough™.\\xa0Kid Friendly. With a Kid-Tough™ rubberized casing and a clear film over the screen to protect against drips and sticky fingers, the next time your child asks to play with your Kindle Fire, you’ll be much more likely to say “sure”! And with the FREE learning apps available for download at the Kindle Appstore, your child will be engaged, entertained and learning every time he or she uses it. They’ll feel a grown-up sense of confidence, knowing you can trust them to use your Kindle Fire. And because you know it’s protected, you can take it in the car, to a restaurant—just about anywhere! Kid Fun & Learning with Two FREE Apps! Download one of these FREE Apps from Fisher-Price® at the Kindle Appstore—no purchase necessary! The Fisher-Price® Imaginext® Dino-Tech App is a great way for kids to interact with and learn about their favorite dinosaurs! There’s a great dino maze game and even an Imaginext® Dino-Tech movie, called “Either Ore” to watch! The Fisher-Price® Little People® Market App invites kids to join all their Little People® friends at the Market and learn letters, numbers, colors and matching with fun games and activities! Easy Care. Once you’ve downloaded your FREE apps from the Kindle Appstore, just insert your Kindle Fire into the Kid-Tough™ Apptivity™ Case, lock it securely in place, and let your child explore! The Kid-Tough™ case will protect your Kindle Fire while your child uses it, and if any of those drips or sticky fingers happen, all you have to do is remove your Kindle Fire from the case, and wipe the case clean with a damp cloth. It’s that easy! What's in the Box? Fisher-Price® Kid-Tough™ Apptivity™ Case Kid-Tough™ Apptivity™ Case Blue for Kindle Fire Kid-Tough™ rubberized casing and a clear film over the screen to protect. View larger. Battery Required: No Batteries Included: N/A Battery Quantity: N/A Battery Type: N/A Battery Included Quantity: N/A Assembly Required: No Age Grade: 3+ YRS. LICENSOR LEGAL: US Patent No. 7,158,376. Licensed from Otter Products, LLC. This sturdy case (that also comes in pink) is built Kid-Tough™! View larger. | 12.8 ounces (View shipping rates and policies)\""
      ]
     },
     "execution_count": 36,
     "metadata": {},
     "output_type": "execute_result"
    }
   ],
   "source": [
    "df_merged['Technical Details'][1]"
   ]
  },
  {
   "cell_type": "code",
   "execution_count": 37,
   "metadata": {},
   "outputs": [
    {
     "data": {
      "text/plain": [
       "58"
      ]
     },
     "execution_count": 37,
     "metadata": {},
     "output_type": "execute_result"
    }
   ],
   "source": [
    "df_merged['Technical Details'].nunique()"
   ]
  },
  {
   "cell_type": "markdown",
   "metadata": {},
   "source": [
    "'Product Specification' Column"
   ]
  },
  {
   "cell_type": "code",
   "execution_count": 38,
   "metadata": {},
   "outputs": [
    {
     "data": {
      "text/plain": [
       "'ProductDimensions:8.5x1x5.8inches|ItemWeight:10.1ounces|ShippingWeight:12.8ounces(Viewshippingratesandpolicies)|DomesticShipping:ItemcanbeshippedwithinU.S.|InternationalShipping:Thisitemisnoteligibleforinternationalshipping.LearnMore|ASIN:B009RH9OJ0|Itemmodelnumber:Y3501|Manufacturerrecommendedage:3yearsandup|Discontinuedbymanufacturer:Yes'"
      ]
     },
     "execution_count": 38,
     "metadata": {},
     "output_type": "execute_result"
    }
   ],
   "source": [
    "df_merged['Product Specification'][1]"
   ]
  },
  {
   "cell_type": "code",
   "execution_count": 39,
   "metadata": {},
   "outputs": [
    {
     "data": {
      "text/plain": [
       "49"
      ]
     },
     "execution_count": 39,
     "metadata": {},
     "output_type": "execute_result"
    }
   ],
   "source": [
    "df_merged['Product Specification'].nunique()"
   ]
  },
  {
   "cell_type": "markdown",
   "metadata": {},
   "source": [
    "'Product Name' "
   ]
  },
  {
   "cell_type": "code",
   "execution_count": 40,
   "metadata": {},
   "outputs": [
    {
     "data": {
      "text/plain": [
       "'Fisher Price Kid-Tough Apptivity Case for Kindle Fire, Blue (will not fit HD models)'"
      ]
     },
     "execution_count": 40,
     "metadata": {},
     "output_type": "execute_result"
    }
   ],
   "source": [
    "df_merged['Product Name'][1]"
   ]
  },
  {
   "cell_type": "code",
   "execution_count": 93,
   "metadata": {},
   "outputs": [
    {
     "data": {
      "text/plain": [
       "62"
      ]
     },
     "execution_count": 93,
     "metadata": {},
     "output_type": "execute_result"
    }
   ],
   "source": [
    "df_merged['mapped_category'].nunique()"
   ]
  },
  {
   "cell_type": "code",
   "execution_count": 21,
   "metadata": {},
   "outputs": [],
   "source": [
    "# Creating a merged column with all of the text relevant information\n",
    "df = df_merged\n",
    "\n",
    "df[\"product_info\"] = (\n",
    "    df[\"Product Name\"].astype(str) + \" \" +\n",
    "    df[\"Category\"].astype(str) + \" \" +\n",
    "    df[\"brand\"].astype(str) + \" \" +\n",
    "    df[\"About Product\"].astype(str) + \" \" +\n",
    "    df[\"Product Specification\"].astype(str)\n",
    ")\n"
   ]
  },
  {
   "cell_type": "code",
   "execution_count": 43,
   "metadata": {},
   "outputs": [
    {
     "name": "stdout",
     "output_type": "stream",
     "text": [
      "<class 'pandas.core.series.Series'>\n",
      "RangeIndex: 753092 entries, 0 to 753091\n",
      "Series name: product_info\n",
      "Non-Null Count   Dtype \n",
      "--------------   ----- \n",
      "753092 non-null  object\n",
      "dtypes: object(1)\n",
      "memory usage: 5.7+ MB\n"
     ]
    }
   ],
   "source": [
    "df['product_info'].info()"
   ]
  },
  {
   "cell_type": "code",
   "execution_count": 44,
   "metadata": {},
   "outputs": [],
   "source": [
    "# Storing embeddings\n",
    "def generate_and_save_embeddings(df, filename=\"embeddings.pkl\"):\n",
    "    model = SentenceTransformer(\"all-MiniLM-L6-v2\")\n",
    "    unique_product_info = df[\"product_info\"].unique()\n",
    "    embeddings_list = model.encode(list(unique_product_info))\n",
    "    embeddings_dict = dict(zip(unique_product_info, embeddings_list))\n",
    "    with open(filename, \"wb\") as f:\n",
    "        pickle.dump(embeddings_dict, f)\n",
    "    return embeddings_dict"
   ]
  },
  {
   "cell_type": "code",
   "execution_count": 46,
   "metadata": {},
   "outputs": [],
   "source": [
    "# Loading or generating embeddings\n",
    "embeddings_file = \"./data/embeddings.pkl\"\n",
    "if os.path.exists(embeddings_file):\n",
    "    with open(embeddings_file, \"rb\") as f:\n",
    "        embeddings_dict = pickle.load(f)\n",
    "else:\n",
    "    embeddings_dict = generate_and_save_embeddings(df, embeddings_file)\n",
    "\n",
    "# Mapping embeddings to the dataframe using product_id as the key\n",
    "df[\"embeddings\"] = df[\"product_info\"].map(embeddings_dict)\n",
    "\n",
    "# Getting most purchased articules\n",
    "popular_products = df[\"product_id\"].value_counts().index[:10].tolist()\n",
    "popular_recommendations = df[df[\"product_id\"].isin(popular_products)][[\"product_id\", \"Product Name\", \"price\"]].drop_duplicates()\n",
    "\n",
    "# Converting embeddings into array \n",
    "embedding_matrix = np.stack(df[\"embeddings\"].dropna().values)"
   ]
  },
  {
   "cell_type": "code",
   "execution_count": 50,
   "metadata": {},
   "outputs": [],
   "source": [
    "# Storing matrix\n",
    "np.save(\"./data/embedding_matrix.npy\", embedding_matrix)"
   ]
  },
  {
   "cell_type": "code",
   "execution_count": null,
   "metadata": {},
   "outputs": [],
   "source": [
    "# Recommendation system\n",
    "def recommend_products(user_id, df, popular_recommendations, top_n=10):\n",
    "    # Get the user's purchase history and remove products with missing embeddings\n",
    "    user_products = df[df[\"user_id\"] == user_id].dropna(subset=[\"embeddings\"])\n",
    "    print(f\"User {user_id} has purchased {len(user_products)} products.\")\n",
    "\n",
    "    # If the user has no purchase history, return diverse popular recommendations\n",
    "    if user_products.empty:\n",
    "        available_popular = popular_recommendations.drop_duplicates(subset=[\"Product Name\"])\n",
    "        return available_popular.sample(n=min(top_n, len(available_popular)), replace=False).to_dict(orient=\"records\")\n",
    "\n",
    "    # Extract user embeddings from their purchased products\n",
    "    user_embeddings = np.stack(user_products[\"embeddings\"].values)\n",
    "\n",
    "    # Get valid embeddings (products with embeddings)\n",
    "    valid_embeddings = df.dropna(subset=[\"embeddings\"])\n",
    "    if valid_embeddings.empty:\n",
    "        available_popular = popular_recommendations.drop_duplicates(subset=[\"Product Name\"])\n",
    "        return available_popular.sample(n=min(top_n, len(available_popular)), replace=False).to_dict(orient=\"records\")\n",
    "\n",
    "    embedding_matrix = np.stack(valid_embeddings[\"embeddings\"].values)\n",
    "\n",
    "    # Compute cosine similarity between user embeddings and all product embeddings\n",
    "    similarities = cosine_similarity(user_embeddings, embedding_matrix).mean(axis=0)\n",
    "\n",
    "    # Assign similarity scores to each product\n",
    "    valid_embeddings = valid_embeddings.copy()\n",
    "    valid_embeddings[\"similarity\"] = similarities  \n",
    "\n",
    "    # Remove already purchased products\n",
    "    purchased_products = set(user_products[\"product_id\"].values)\n",
    "    df_filtered = valid_embeddings[~valid_embeddings[\"product_id\"].isin(purchased_products)]\n",
    "\n",
    "    # Sort by similarity (highest first)\n",
    "    df_filtered = df_filtered.sort_values(by=\"similarity\", ascending=False)\n",
    "\n",
    "    # Select top products while ensuring variety\n",
    "    recommended = df_filtered.groupby(\"Product Name\").head(3).reset_index(drop=True).head(top_n)\n",
    "\n",
    "    # If there are not enough recommendations, fill up with popular products\n",
    "    if len(recommended) < top_n:\n",
    "        remaining = top_n - len(recommended)\n",
    "        available_popular = popular_recommendations.drop_duplicates(subset=[\"Product Name\"])\n",
    "        additional_products = available_popular.sample(n=min(remaining, len(available_popular)), replace=False)\n",
    "        recommended = pd.concat([recommended, additional_products])\n",
    "        print(f\"After adding popular products: {len(recommended)} total recommendations.\")\n",
    "\n",
    "    # Ensure we are using only the first image URL (split by '|')\n",
    "    recommended[\"Image\"] = recommended[\"Image\"].apply(lambda x: x.split('|')[0] if isinstance(x, str) else \"\")\n",
    "\n",
    "    # Filter to ensure there are no null values in the required columns\n",
    "    recommended = recommended.dropna(subset=[\"Image\", \"Product Url\"])\n",
    "\n",
    "    # Return the top recommended products with relevant details\n",
    "    return recommended[[\"product_id\", \"Product Name\", \"price\", \"Selling Price\", \"Image\", \"Product Url\", \"similarity\"]].head(top_n).to_dict(orient=\"records\")\n"
   ]
  },
  {
   "cell_type": "code",
   "execution_count": 58,
   "metadata": {},
   "outputs": [
    {
     "name": "stdout",
     "output_type": "stream",
     "text": [
      "User 1515915625446798336 has purchased 1 products.\n",
      "[{'product_id': 1515966223509127751, 'Product Name': 'Uncanny Brands Star Wars Darth Vader Elite 2-Slice Toaster- Star Wars Icon Logo onto Your Toast', 'price': 21.97, 'Selling Price': 42.99, 'Image': 'https://images-na.ssl-images-amazon.com/images/I/41DS9pw8VwL.jpg', 'Product Url': 'https://www.amazon.com/Star-Wars-Darth-Vader-Toaster/dp/B00JFFH1NA', 'similarity': 1.0}, {'product_id': 2273948319115903999, 'Product Name': 'Uncanny Brands Star Wars Darth Vader Elite 2-Slice Toaster- Star Wars Icon Logo onto Your Toast', 'price': 43.96, 'Selling Price': 42.99, 'Image': 'https://images-na.ssl-images-amazon.com/images/I/41DS9pw8VwL.jpg', 'Product Url': 'https://www.amazon.com/Star-Wars-Darth-Vader-Toaster/dp/B00JFFH1NA', 'similarity': 1.0}, {'product_id': 1515966223509088574, 'Product Name': 'Uncanny Brands Star Wars Darth Vader Elite 2-Slice Toaster- Star Wars Icon Logo onto Your Toast', 'price': 15.02, 'Selling Price': 42.99, 'Image': 'https://images-na.ssl-images-amazon.com/images/I/41DS9pw8VwL.jpg', 'Product Url': 'https://www.amazon.com/Star-Wars-Darth-Vader-Toaster/dp/B00JFFH1NA', 'similarity': 1.0}, {'product_id': 2273948303068496103, 'Product Name': 'Star Wars Anakin to Darth Vader Color Change Lightsaber Toy(Discontinued by manufacturer)', 'price': 168.26, 'Selling Price': 62.98, 'Image': 'https://images-na.ssl-images-amazon.com/images/I/217gBg5GgUL.jpg', 'Product Url': 'https://www.amazon.com/Star-Wars-Lightsaber-Discontinued-manufacturer/dp/B00CFWWD7Y', 'similarity': 0.4786396622657776}, {'product_id': 2273948277256749635, 'Product Name': 'Star Wars Anakin to Darth Vader Color Change Lightsaber Toy(Discontinued by manufacturer)', 'price': 118.73, 'Selling Price': 62.98, 'Image': 'https://images-na.ssl-images-amazon.com/images/I/217gBg5GgUL.jpg', 'Product Url': 'https://www.amazon.com/Star-Wars-Lightsaber-Discontinued-manufacturer/dp/B00CFWWD7Y', 'similarity': 0.4786396622657776}, {'product_id': 1515966223510177684, 'Product Name': 'Star Wars Anakin to Darth Vader Color Change Lightsaber Toy(Discontinued by manufacturer)', 'price': 137.01, 'Selling Price': 62.98, 'Image': 'https://images-na.ssl-images-amazon.com/images/I/217gBg5GgUL.jpg', 'Product Url': 'https://www.amazon.com/Star-Wars-Lightsaber-Discontinued-manufacturer/dp/B00CFWWD7Y', 'similarity': 0.4786396622657776}, {'product_id': 1515966223520066461, 'Product Name': 'Uncle Milton - Star Wars Science - Mini Lightsaber Tech Lab', 'price': 0.9, 'Selling Price': 13.94, 'Image': 'https://images-na.ssl-images-amazon.com/images/I/21XeTHtHpuL.jpg', 'Product Url': 'https://www.amazon.com/Uncle-Milton-Star-Science-Lightsaber/dp/B00339NPFW', 'similarity': 0.4334631562232971}, {'product_id': 1515966223520066461, 'Product Name': 'Uncle Milton - Star Wars Science - Mini Lightsaber Tech Lab', 'price': 0.9, 'Selling Price': 13.94, 'Image': 'https://images-na.ssl-images-amazon.com/images/I/21XeTHtHpuL.jpg', 'Product Url': 'https://www.amazon.com/Uncle-Milton-Star-Science-Lightsaber/dp/B00339NPFW', 'similarity': 0.4334631562232971}, {'product_id': 1515966223520066461, 'Product Name': 'Uncle Milton - Star Wars Science - Mini Lightsaber Tech Lab', 'price': 0.9, 'Selling Price': 13.94, 'Image': 'https://images-na.ssl-images-amazon.com/images/I/21XeTHtHpuL.jpg', 'Product Url': 'https://www.amazon.com/Uncle-Milton-Star-Science-Lightsaber/dp/B00339NPFW', 'similarity': 0.4334631562232971}, {'product_id': 1515966223510527994, 'Product Name': 'Star Wars Fanwraps The Force Awakens Passenger Series Kylo Ren Perforated Window Decal', 'price': 9.47, 'Selling Price': 19.99, 'Image': 'https://images-na.ssl-images-amazon.com/images/I/41iIVrK67hL.jpg', 'Product Url': 'https://www.amazon.com/Star-Wars-FanWraps-Passenger-Perforated/dp/B015KMHSPW', 'similarity': 0.4194248914718628}]\n"
     ]
    }
   ],
   "source": [
    "# Testing\n",
    "user_id = df[\"user_id\"].unique()[5] \n",
    "top_recommendations = recommend_products(user_id=user_id, df=df, popular_recommendations=popular_recommendations)\n",
    "print(top_recommendations)\n"
   ]
  },
  {
   "cell_type": "code",
   "execution_count": 32,
   "metadata": {},
   "outputs": [
    {
     "name": "stdout",
     "output_type": "stream",
     "text": [
      "User 1515915625446798336 has purchased 1 products.\n"
     ]
    }
   ],
   "source": [
    "top_recommendations = recommend_products(user_id='1515915625446798336', df=df, popular_recommendations=popular_recommendations)"
   ]
  },
  {
   "cell_type": "code",
   "execution_count": null,
   "metadata": {},
   "outputs": [
    {
     "name": "stdout",
     "output_type": "stream",
     "text": [
      "1515915625441993984\n",
      "1515915625441993984\n",
      "1515915625447879424\n",
      "1515915625447879424\n",
      "1515915625450382848\n",
      "1515915625450382848\n",
      "1515915625450382848\n",
      "1515915625450382848\n",
      "1515915625450382848\n",
      "1515915625450382848\n"
     ]
    }
   ],
   "source": [
    "# Printing some users for testing purposes\n",
    "for val in df_merged['user_id'].head(10):\n",
    "    print(int(val)) "
   ]
  },
  {
   "cell_type": "code",
   "execution_count": 61,
   "metadata": {},
   "outputs": [
    {
     "name": "stdout",
     "output_type": "stream",
     "text": [
      "User 1515915625441993984 has purchased 2 products.\n",
      "[{'product_id': 1515966223509123398, 'Product Name': 'Fisher Price Kid-Tough Apptivity Case for Kindle Fire, Blue (will not fit HD models)', 'price': 69.42, 'Selling Price': 26.19, 'Image': 'https://images-na.ssl-images-amazon.com/images/I/51LHHv8aC3L.jpg', 'Product Url': 'https://www.amazon.com/Fisher-Kid-Tough-Apptivity-Kindle-models/dp/B009RH9OJ0', 'similarity': 1.0}, {'product_id': 1515966223509089673, 'Product Name': 'Fisher Price Kid-Tough Apptivity Case for Kindle Fire, Blue (will not fit HD models)', 'price': 208.31, 'Selling Price': 26.19, 'Image': 'https://images-na.ssl-images-amazon.com/images/I/51LHHv8aC3L.jpg', 'Product Url': 'https://www.amazon.com/Fisher-Kid-Tough-Apptivity-Kindle-models/dp/B009RH9OJ0', 'similarity': 1.0}, {'product_id': 1515966223509130229, 'Product Name': 'Fisher Price Kid-Tough Apptivity Case for Kindle Fire, Blue (will not fit HD models)', 'price': 601.83, 'Selling Price': 26.19, 'Image': 'https://images-na.ssl-images-amazon.com/images/I/51LHHv8aC3L.jpg', 'Product Url': 'https://www.amazon.com/Fisher-Kid-Tough-Apptivity-Kindle-models/dp/B009RH9OJ0', 'similarity': 1.0}, {'product_id': 1515966223520066461, 'Product Name': \"Fisher-Price Laugh & Learn Click 'n Learn Camera, White\", 'price': 0.9, 'Selling Price': 9.95, 'Image': 'https://images-na.ssl-images-amazon.com/images/I/41g8rjbbIPL.jpg', 'Product Url': 'https://www.amazon.com/Fisher-Price-Laugh-Learn-Click-Camera/dp/B00MYL9H0C', 'similarity': 0.5638322234153748}, {'product_id': 1515966223520066461, 'Product Name': \"Fisher-Price Laugh & Learn Click 'n Learn Camera, White\", 'price': 0.9, 'Selling Price': 9.95, 'Image': 'https://images-na.ssl-images-amazon.com/images/I/41g8rjbbIPL.jpg', 'Product Url': 'https://www.amazon.com/Fisher-Price-Laugh-Learn-Click-Camera/dp/B00MYL9H0C', 'similarity': 0.5638322234153748}, {'product_id': 1515966223520066461, 'Product Name': \"Fisher-Price Laugh & Learn Click 'n Learn Camera, White\", 'price': 0.9, 'Selling Price': 9.95, 'Image': 'https://images-na.ssl-images-amazon.com/images/I/41g8rjbbIPL.jpg', 'Product Url': 'https://www.amazon.com/Fisher-Price-Laugh-Learn-Click-Camera/dp/B00MYL9H0C', 'similarity': 0.5638322234153748}, {'product_id': 2309018264266604952, 'Product Name': 'Top Notch Teacher Products Chart Tablet Polka Dot (1 1/2\" Ruled), Red, 24\" x 32\"', 'price': 127.29, 'Selling Price': 20.18, 'Image': 'https://images-na.ssl-images-amazon.com/images/I/51nxd3dg2bL.jpg', 'Product Url': 'https://www.amazon.com/Top-Notch-Teacher-Products-TOP3847/dp/B004K4IBGM', 'similarity': 0.5533138513565063}, {'product_id': 1515966223509089031, 'Product Name': 'Top Notch Teacher Products Chart Tablet Polka Dot (1 1/2\" Ruled), Red, 24\" x 32\"', 'price': 168.96, 'Selling Price': 20.18, 'Image': 'https://images-na.ssl-images-amazon.com/images/I/51nxd3dg2bL.jpg', 'Product Url': 'https://www.amazon.com/Top-Notch-Teacher-Products-TOP3847/dp/B004K4IBGM', 'similarity': 0.5533138513565063}, {'product_id': 1515966223509107975, 'Product Name': 'Top Notch Teacher Products Chart Tablet Polka Dot (1 1/2\" Ruled), Red, 24\" x 32\"', 'price': 127.29, 'Selling Price': 20.18, 'Image': 'https://images-na.ssl-images-amazon.com/images/I/51nxd3dg2bL.jpg', 'Product Url': 'https://www.amazon.com/Top-Notch-Teacher-Products-TOP3847/dp/B004K4IBGM', 'similarity': 0.5533138513565063}, {'product_id': 1515966223524245475, 'Product Name': 'Kindi Kids Fun Delivery Scooter and 2 Shopkins', 'price': 0.51, 'Selling Price': 14.99, 'Image': 'https://images-na.ssl-images-amazon.com/images/I/41UcEHn-R-L.jpg', 'Product Url': 'https://www.amazon.com/Kindi-Kids-Delivery-Scooter-Shopkins/dp/B07VL6FRXV', 'similarity': 0.5272699594497681}]\n"
     ]
    }
   ],
   "source": [
    "top_recommendations = recommend_products(user_id='1515915625441993984', df=df, popular_recommendations=popular_recommendations)\n",
    "print(top_recommendations)"
   ]
  },
  {
   "cell_type": "markdown",
   "metadata": {},
   "source": [
    "**Future Enhancements:**\n",
    "\n",
    "* Finding new categories based on text columns: \n",
    "For this purpose, it is recommended to use an LLM trained for classification purposes. \n",
    "\n",
    "* Define client audiences based on the output of the recommender system.\n",
    "Categorize clients into different segments based on the recommendations generated by the system, allowing for more targeted insights and actions. These clusters may be defined by selected criteria, such as the prices ranges. \n",
    "\n",
    "* Implement a validation approach to compare purchases influenced by different embedding models.\n",
    "Develop a method to assess and compare how various embedding models impact the categorization of products, by evaluating the purchases that the recommendation system influences.\n",
    "\n",
    "* Create an API and HTML interface for visualization and testing.\n",
    "Build an API to serve the recommendation model, accompanied by an HTML interface for visualizing and testing the results interactively."
   ]
  },
  {
   "cell_type": "code",
   "execution_count": null,
   "metadata": {},
   "outputs": [],
   "source": []
  }
 ],
 "metadata": {
  "kernelspec": {
   "display_name": "addi",
   "language": "python",
   "name": "python3"
  },
  "language_info": {
   "codemirror_mode": {
    "name": "ipython",
    "version": 3
   },
   "file_extension": ".py",
   "mimetype": "text/x-python",
   "name": "python",
   "nbconvert_exporter": "python",
   "pygments_lexer": "ipython3",
   "version": "3.11.9"
  }
 },
 "nbformat": 4,
 "nbformat_minor": 2
}
